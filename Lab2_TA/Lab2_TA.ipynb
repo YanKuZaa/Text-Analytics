{
 "cells": [
  {
   "cell_type": "code",
   "execution_count": 2,
   "id": "bdae8c7d-d631-4d01-8059-34ad5f51fb62",
   "metadata": {},
   "outputs": [],
   "source": [
    "import re "
   ]
  },
  {
   "cell_type": "code",
   "execution_count": 4,
   "id": "1aa99055-6788-4817-ab2e-a9e64bc5d468",
   "metadata": {},
   "outputs": [
    {
     "name": "stdout",
     "output_type": "stream",
     "text": [
      "Digits found: ['2', '4', '5', '6', '7', '8', '9', '3', '4', '1', '2', '3', '0']\n"
     ]
    }
   ],
   "source": [
    "text1 = \"Order number: 24567, Tracking ID: 8934A12, Quantity: 30\"\n",
    "pattern1 = r'\\d'  \n",
    "matches1 = re.findall(pattern1, text1)\n",
    "print(\"Digits found:\", matches1)"
   ]
  },
  {
   "cell_type": "code",
   "execution_count": 6,
   "id": "63cc9f47-ebb9-4702-8e7d-bc017ddbf411",
   "metadata": {},
   "outputs": [
    {
     "name": "stdout",
     "output_type": "stream",
     "text": [
      "Non-alphanumeric characters: ['!', ' ', \"'\", ' ', ' ', ' ', '?', ' ', ' ', ' ', '@', ' ', '.']\n"
     ]
    }
   ],
   "source": [
    "text2 = \"Welcome! How's your day going? Call me @ 3pm.\"\n",
    "pattern2 = r'[^a-zA-Z0-9]' \n",
    "matches2 = re.findall(pattern2, text2)\n",
    "print(\"Non-alphanumeric characters:\", matches2)"
   ]
  },
  {
   "cell_type": "code",
   "execution_count": 8,
   "id": "8cf764ac-b060-428f-aa4e-ee0e91f06109",
   "metadata": {},
   "outputs": [
    {
     "ename": "NameError",
     "evalue": "name 'pattern' is not defined",
     "output_type": "error",
     "traceback": [
      "\u001b[1;31m---------------------------------------------------------------------------\u001b[0m",
      "\u001b[1;31mNameError\u001b[0m                                 Traceback (most recent call last)",
      "Cell \u001b[1;32mIn[8], line 3\u001b[0m\n\u001b[0;32m      1\u001b[0m text \u001b[38;5;241m=\u001b[39m \u001b[38;5;124m\"\u001b[39m\u001b[38;5;124mData Science, AI, and Machine Learning. These fields are growing fast.\u001b[39m\u001b[38;5;124m\"\u001b[39m\n\u001b[0;32m      2\u001b[0m pattern3 \u001b[38;5;241m=\u001b[39m \u001b[38;5;124mr\u001b[39m\u001b[38;5;124m'\u001b[39m\u001b[38;5;124m[,.]\u001b[39m\u001b[38;5;124m'\u001b[39m \n\u001b[1;32m----> 3\u001b[0m split_text \u001b[38;5;241m=\u001b[39m re\u001b[38;5;241m.\u001b[39msplit(pattern, text)\n\u001b[0;32m      4\u001b[0m \u001b[38;5;28mprint\u001b[39m(\u001b[38;5;124m\"\u001b[39m\u001b[38;5;124mSplit text:\u001b[39m\u001b[38;5;124m\"\u001b[39m, split_text)\n",
      "\u001b[1;31mNameError\u001b[0m: name 'pattern' is not defined"
     ]
    }
   ],
   "source": [
    "text = \"Data Science, AI, and Machine Learning. These fields are growing fast.\"\n",
    "pattern3 = r'[,.]' \n",
    "split_text = re.split(pattern, text)\n",
    "print(\"Split text:\", split_text)"
   ]
  },
  {
   "cell_type": "code",
   "execution_count": 10,
   "id": "93dfbffe-a797-4186-bd2a-d92f5358b752",
   "metadata": {},
   "outputs": [
    {
     "name": "stdout",
     "output_type": "stream",
     "text": [
      "Split text: ['Data Science', ' AI', ' and Machine Learning', ' These fields are growing fast', '']\n"
     ]
    }
   ],
   "source": [
    "text3 = \"Data Science, AI, and Machine Learning. These fields are growing fast.\"\n",
    "pattern3 = r'[,.]' \n",
    "split_text3 = re.split(pattern3, text3)\n",
    "print(\"Split text:\", split_text3)"
   ]
  },
  {
   "cell_type": "code",
   "execution_count": 12,
   "id": "444f792c-0faf-4774-91ef-dc8b54556ba8",
   "metadata": {},
   "outputs": [
    {
     "name": "stdout",
     "output_type": "stream",
     "text": [
      "Anonymized text: Contact us at [HIDDEN] or [HIDDEN]\n"
     ]
    }
   ],
   "source": [
    "text4 = \"Contact us at support@example.com or info@company.org\"\n",
    "pattern4 = r'\\b[A-Za-z0-9._%+-]+@[A-Za-z0-9.-]+\\.[A-Za-z]{2,}\\b'  \n",
    "new_text4 = re.sub(pattern4, \"[HIDDEN]\", text4)\n",
    "print(\"Anonymized text:\", new_text4)"
   ]
  },
  {
   "cell_type": "code",
   "execution_count": 14,
   "id": "b9811dff-f37e-4fac-ba5b-66d90b9da825",
   "metadata": {},
   "outputs": [
    {
     "name": "stdout",
     "output_type": "stream",
     "text": [
      "Domain types: ['com', 'edu', 'org']\n"
     ]
    }
   ],
   "source": [
    "text5 = \"Emails: user@gmail.com, admin@university.edu, info@company.org\"\n",
    "pattern5 = r'@[\\w.-]+\\.(\\w+)'  \n",
    "matches5 = re.findall(pattern5, text5)\n",
    "print(\"Domain types:\", matches5)"
   ]
  },
  {
   "cell_type": "code",
   "execution_count": null,
   "id": "1f2cc514-67d5-474f-9b45-a85a63d84d67",
   "metadata": {},
   "outputs": [],
   "source": []
  }
 ],
 "metadata": {
  "kernelspec": {
   "display_name": "Python [conda env:base] *",
   "language": "python",
   "name": "conda-base-py"
  },
  "language_info": {
   "codemirror_mode": {
    "name": "ipython",
    "version": 3
   },
   "file_extension": ".py",
   "mimetype": "text/x-python",
   "name": "python",
   "nbconvert_exporter": "python",
   "pygments_lexer": "ipython3",
   "version": "3.12.7"
  }
 },
 "nbformat": 4,
 "nbformat_minor": 5
}
