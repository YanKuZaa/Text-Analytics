{
 "cells": [
  {
   "cell_type": "code",
   "execution_count": 2,
   "id": "8687a49b-897c-41a6-91e6-401b84b075a7",
   "metadata": {},
   "outputs": [],
   "source": [
    "import pandas as pd\n",
    "import nltk\n",
    "from nltk.corpus import stopwords\n",
    "from nltk.tokenize import word_tokenize\n",
    "from nltk.stem import WordNetLemmatizer, PorterStemmer\n",
    "from gensim import corpora\n",
    "from gensim.models import LdaModel, CoherenceModel"
   ]
  },
  {
   "cell_type": "code",
   "execution_count": 4,
   "id": "22de914c-a510-4a25-bb86-3f055b303f70",
   "metadata": {},
   "outputs": [
    {
     "name": "stderr",
     "output_type": "stream",
     "text": [
      "[nltk_data] Downloading package stopwords to\n",
      "[nltk_data]     C:\\Users\\VICTUS\\AppData\\Roaming\\nltk_data...\n",
      "[nltk_data]   Package stopwords is already up-to-date!\n",
      "[nltk_data] Downloading package punkt to\n",
      "[nltk_data]     C:\\Users\\VICTUS\\AppData\\Roaming\\nltk_data...\n",
      "[nltk_data]   Package punkt is already up-to-date!\n",
      "[nltk_data] Downloading package wordnet to\n",
      "[nltk_data]     C:\\Users\\VICTUS\\AppData\\Roaming\\nltk_data...\n",
      "[nltk_data]   Package wordnet is already up-to-date!\n"
     ]
    },
    {
     "data": {
      "text/plain": [
       "True"
      ]
     },
     "execution_count": 4,
     "metadata": {},
     "output_type": "execute_result"
    }
   ],
   "source": [
    "nltk.download('stopwords')\n",
    "nltk.download('punkt')\n",
    "nltk.download('wordnet')"
   ]
  },
  {
   "cell_type": "code",
   "execution_count": 6,
   "id": "c2bf3324-ffab-4b28-8cfb-62db647cb8b5",
   "metadata": {},
   "outputs": [],
   "source": [
    "df = pd.read_csv(\"news_dataset.csv\")\n",
    "df = df[['text']].dropna()"
   ]
  },
  {
   "cell_type": "code",
   "execution_count": 8,
   "id": "9a791073-31bb-4582-9ae2-89703c4b71a3",
   "metadata": {},
   "outputs": [],
   "source": [
    "stop_words = set(stopwords.words('english'))\n",
    "lemmatizer = WordNetLemmatizer()\n",
    "stemmer = PorterStemmer()\n",
    "import re\n",
    "\n",
    "def preprocess_text(text):\n",
    "    tokens = word_tokenize(text.lower())                     # Lowercase + tokenize\n",
    "    tokens = [t for t in tokens if t.isalpha()]\n",
    "    #tokens = [t for t in tokens if len(t) > 2 and not t.isnumeric()]              # Keep only words and numbers\n",
    "    tokens = [t for t in tokens if t not in stop_words]      # Remove stopwords\n",
    "    tokens = [t for t in tokens if len(t) > 2]\n",
    "    tokens = [lemmatizer.lemmatize(t) for t in tokens]       # Lemmatize\n",
    "    tokens = [stemmer.stem(t) for t in tokens]               # Stem\n",
    "    return tokens\n",
    "\n",
    "processed_docs = df['text'].apply(preprocess_text)"
   ]
  },
  {
   "cell_type": "code",
   "execution_count": 9,
   "id": "4d976947-565f-4beb-85c8-9f0b615bab94",
   "metadata": {},
   "outputs": [],
   "source": [
    "dictionary = corpora.Dictionary(processed_docs)\n",
    "dictionary.filter_extremes(no_below=10, no_above=0.5)\n",
    "corpus = [dictionary.doc2bow(doc) for doc in processed_docs]"
   ]
  },
  {
   "cell_type": "code",
   "execution_count": 10,
   "id": "fcc9bd66-f79f-4342-99c0-1dd799692029",
   "metadata": {},
   "outputs": [],
   "source": [
    "lda_model = LdaModel(corpus=corpus, id2word=dictionary, num_topics=4, passes=10, random_state=42)"
   ]
  },
  {
   "cell_type": "code",
   "execution_count": 11,
   "id": "95e9f015-85c7-4bc7-94df-3f00258adea8",
   "metadata": {},
   "outputs": [
    {
     "name": "stdout",
     "output_type": "stream",
     "text": [
      "\n",
      "Coherence Score: 0.4987\n",
      "\n"
     ]
    }
   ],
   "source": [
    "coherence_model = CoherenceModel(model=lda_model, texts=processed_docs, dictionary=dictionary, coherence='c_v')\n",
    "coherence_score = coherence_model.get_coherence()\n",
    "print(f\"\\nCoherence Score: {coherence_score:.4f}\\n\")"
   ]
  },
  {
   "cell_type": "code",
   "execution_count": 12,
   "id": "8f95ef86-8230-4266-a537-182d2e46ee7a",
   "metadata": {},
   "outputs": [
    {
     "name": "stdout",
     "output_type": "stream",
     "text": [
      "Top Terms for Each Topic:\n",
      "\n",
      "Topic 0:\n",
      "  - use (weight: 0.017)\n",
      "  - key (weight: 0.015)\n",
      "  - file (weight: 0.010)\n",
      "  - encrypt (weight: 0.010)\n",
      "  - system (weight: 0.008)\n",
      "  - program (weight: 0.008)\n",
      "  - chip (weight: 0.007)\n",
      "  - inform (weight: 0.007)\n",
      "  - secur (weight: 0.006)\n",
      "  - avail (weight: 0.005)\n",
      "\n",
      "Topic 1:\n",
      "  - max (weight: 0.025)\n",
      "  - use (weight: 0.013)\n",
      "  - get (weight: 0.010)\n",
      "  - one (weight: 0.009)\n",
      "  - would (weight: 0.009)\n",
      "  - like (weight: 0.008)\n",
      "  - drive (weight: 0.007)\n",
      "  - know (weight: 0.006)\n",
      "  - work (weight: 0.006)\n",
      "  - problem (weight: 0.006)\n",
      "\n",
      "Topic 2:\n",
      "  - would (weight: 0.011)\n",
      "  - peopl (weight: 0.011)\n",
      "  - one (weight: 0.010)\n",
      "  - think (weight: 0.007)\n",
      "  - say (weight: 0.007)\n",
      "  - know (weight: 0.006)\n",
      "  - like (weight: 0.006)\n",
      "  - right (weight: 0.005)\n",
      "  - make (weight: 0.005)\n",
      "  - time (weight: 0.005)\n",
      "\n",
      "Topic 3:\n",
      "  - year (weight: 0.010)\n",
      "  - presid (weight: 0.010)\n",
      "  - game (weight: 0.008)\n",
      "  - team (weight: 0.007)\n",
      "  - new (weight: 0.006)\n",
      "  - play (weight: 0.006)\n",
      "  - last (weight: 0.005)\n",
      "  - american (weight: 0.005)\n",
      "  - first (weight: 0.005)\n",
      "  - player (weight: 0.004)\n",
      "\n"
     ]
    }
   ],
   "source": [
    "print(\"Top Terms for Each Topic:\\n\")\n",
    "for idx, topic in lda_model.print_topics(num_topics=4, num_words=10):\n",
    "    print(f\"Topic {idx}:\")\n",
    "    for term in topic.split(\"+\"):\n",
    "        term = term.strip()\n",
    "        if \"*\" in term:\n",
    "            weight, word = term.split(\"*\")\n",
    "            print(f\"  - {word.strip().strip('\\\"')} (weight: {weight.strip()})\")\n",
    "    print()"
   ]
  },
  {
   "cell_type": "code",
   "execution_count": 15,
   "id": "f004a17e-807a-42e2-a86d-0a28a86036fa",
   "metadata": {},
   "outputs": [
    {
     "name": "stdout",
     "output_type": "stream",
     "text": [
      "                                                text  Dominant_Topic\n",
      "0  I was wondering if anyone out there could enli...               1\n",
      "1  I recently posted an article asking what kind ...               1\n",
      "2  \\nIt depends on your priorities.  A lot of peo...               1\n",
      "3  an excellent automatic can be found in the sub...               1\n",
      "4  : Ford and his automobile.  I need information...               1\n"
     ]
    }
   ],
   "source": [
    "doc_topics = []\n",
    "for doc in corpus:\n",
    "    topics = lda_model.get_document_topics(doc)\n",
    "    dominant_topic = max(topics, key=lambda x: x[1])[0]\n",
    "    doc_topics.append(dominant_topic)\n",
    "\n",
    "df['Dominant_Topic'] = doc_topics\n",
    "print(df.head())"
   ]
  },
  {
   "cell_type": "code",
   "execution_count": 16,
   "id": "cad9fd8f-9f37-42bc-a47f-9fa8a8c5704a",
   "metadata": {},
   "outputs": [
    {
     "name": "stdout",
     "output_type": "stream",
     "text": [
      "\n",
      "--- Coherence Score Interpretation ---\n",
      "The coherence score is a measure of how interpretable the topics are.\n",
      "A higher score (close to 1.0) means the topics make more sense semantically.\n",
      "In this model, a coherence score around 0.499 suggests that the LDA model is producing fairly meaningful topics.\n"
     ]
    }
   ],
   "source": [
    "print(\"\\n--- Coherence Score Interpretation ---\")\n",
    "print(\"The coherence score is a measure of how interpretable the topics are.\")\n",
    "print(\"A higher score (close to 1.0) means the topics make more sense semantically.\")\n",
    "print(\"In this model, a coherence score around\", round(coherence_score, 3),\n",
    "      \"suggests that the LDA model is producing fairly meaningful topics.\")"
   ]
  },
  {
   "cell_type": "code",
   "execution_count": null,
   "id": "79ee0d1f-427c-4c3b-a2a1-241c8af557f1",
   "metadata": {},
   "outputs": [],
   "source": []
  }
 ],
 "metadata": {
  "kernelspec": {
   "display_name": "Python [conda env:base] *",
   "language": "python",
   "name": "conda-base-py"
  },
  "language_info": {
   "codemirror_mode": {
    "name": "ipython",
    "version": 3
   },
   "file_extension": ".py",
   "mimetype": "text/x-python",
   "name": "python",
   "nbconvert_exporter": "python",
   "pygments_lexer": "ipython3",
   "version": "3.12.7"
  }
 },
 "nbformat": 4,
 "nbformat_minor": 5
}
